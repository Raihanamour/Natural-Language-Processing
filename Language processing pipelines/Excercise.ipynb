{
 "cells": [
  {
   "cell_type": "code",
   "execution_count": 1,
   "id": "c838ef94",
   "metadata": {},
   "outputs": [],
   "source": [
    "import spacy\n",
    "\n",
    "nlp = spacy.load(\"en_core_web_sm\")"
   ]
  },
  {
   "cell_type": "markdown",
   "id": "b2198cc0",
   "metadata": {},
   "source": [
    "### Excersie: 1\n",
    "#### . Get all the proper nouns from a given text in a list and also count how many of them.\n",
    "#### . Proper Noun means a noun that names a particular person, place, or thing."
   ]
  },
  {
   "cell_type": "code",
   "execution_count": 6,
   "id": "ea6352dd",
   "metadata": {},
   "outputs": [],
   "source": [
    "text = ''' Ravi and Raju are the best friends from school days.They wanted to go for a world tour and \n",
    "visit famous cities like Paris, London, Dubai, Rome etc and also they called their another friend Mohan to take part of this world tour.\n",
    "They started their journey from Hyderabad and spent next 3 months travelling all the wonderful cities in the world and cherish a happy moments!\n",
    "'''\n",
    "\n",
    "\n",
    "#creating the nlp object\n",
    "doc = nlp(text)   \n"
   ]
  },
  {
   "cell_type": "code",
   "execution_count": 7,
   "id": "a7b67bf8",
   "metadata": {},
   "outputs": [],
   "source": [
    "proper_noun = []"
   ]
  },
  {
   "cell_type": "code",
   "execution_count": 8,
   "id": "f1db4e19",
   "metadata": {},
   "outputs": [],
   "source": [
    "for token in doc:\n",
    "    if token.pos_ == 'PROPN':\n",
    "        proper_noun.append(token)"
   ]
  },
  {
   "cell_type": "code",
   "execution_count": 9,
   "id": "9faf562f",
   "metadata": {},
   "outputs": [
    {
     "name": "stdout",
     "output_type": "stream",
     "text": [
      "Proper Noun:  [Ravi, Raju, Paris, London, Dubai, Rome, Mohan, Hyderabad]\n",
      "Count:  8\n"
     ]
    }
   ],
   "source": [
    "print('Proper Noun: ', proper_noun)\n",
    "print('Count: ',len(proper_noun))"
   ]
  },
  {
   "cell_type": "markdown",
   "id": "ca85b9ef",
   "metadata": {},
   "source": [
    "### Excersie: 2\n",
    "#### . Get all companies names from a given text and also the count of them.\n",
    "#### . Hint: Use the spacy ner functionality"
   ]
  },
  {
   "cell_type": "code",
   "execution_count": 23,
   "id": "51c21ee1",
   "metadata": {},
   "outputs": [],
   "source": [
    "text = '''The Top 5 companies in USA are Tesla, Walmart, Amazon, Microsoft, Google and the top 5 companies in \n",
    "India are Infosys, Reliance, HDFC Bank, Hindustan Unilever and Bharti Airtel'''"
   ]
  },
  {
   "cell_type": "code",
   "execution_count": 24,
   "id": "8a57cac7",
   "metadata": {},
   "outputs": [],
   "source": [
    "doc = nlp(text)"
   ]
  },
  {
   "cell_type": "code",
   "execution_count": 25,
   "id": "753efbc7",
   "metadata": {},
   "outputs": [],
   "source": [
    "companies =[]"
   ]
  },
  {
   "cell_type": "code",
   "execution_count": 26,
   "id": "799e27bc",
   "metadata": {},
   "outputs": [],
   "source": [
    "for ent in doc.ents:\n",
    "    if ent.label_ == 'ORG':\n",
    "        companies.append(ent)"
   ]
  },
  {
   "cell_type": "code",
   "execution_count": 27,
   "id": "73dbf10b",
   "metadata": {},
   "outputs": [
    {
     "name": "stdout",
     "output_type": "stream",
     "text": [
      "Companies:  [Tesla, Walmart, Amazon, Microsoft, Google, Infosys, Reliance, HDFC Bank, Hindustan Unilever, Bharti]\n",
      "Count:  10\n"
     ]
    }
   ],
   "source": [
    "print('Companies: ',companies)\n",
    "print('Count: ',len(companies))"
   ]
  },
  {
   "cell_type": "code",
   "execution_count": null,
   "id": "5b3c1648",
   "metadata": {},
   "outputs": [],
   "source": []
  }
 ],
 "metadata": {
  "kernelspec": {
   "display_name": "Python 3 (ipykernel)",
   "language": "python",
   "name": "python3"
  },
  "language_info": {
   "codemirror_mode": {
    "name": "ipython",
    "version": 3
   },
   "file_extension": ".py",
   "mimetype": "text/x-python",
   "name": "python",
   "nbconvert_exporter": "python",
   "pygments_lexer": "ipython3",
   "version": "3.11.5"
  }
 },
 "nbformat": 4,
 "nbformat_minor": 5
}
