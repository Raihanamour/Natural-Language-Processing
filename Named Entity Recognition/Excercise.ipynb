{
 "cells": [
  {
   "cell_type": "code",
   "execution_count": 1,
   "id": "ede1c850",
   "metadata": {},
   "outputs": [],
   "source": [
    "import spacy\n",
    "\n",
    "nlp = spacy.load(\"en_core_web_sm\")"
   ]
  },
  {
   "cell_type": "markdown",
   "id": "8c41526e",
   "metadata": {},
   "source": [
    "### Excersie: 1\n",
    "#### Extract all the Geographical (cities, Countries, states) names from a given text"
   ]
  },
  {
   "cell_type": "code",
   "execution_count": 8,
   "id": "26824e64",
   "metadata": {},
   "outputs": [],
   "source": [
    "text = \"\"\"Kiran want to know the famous foods in each state of India. So, he opened Google and search for this question. Google showed that\n",
    "in Delhi it is Chaat, in Gujarat it is Dal Dhokli, in Tamilnadu it is Pongal, in Andhrapradesh it is Biryani, in Assam it is Papaya Khar,\n",
    "in Bihar it is Litti Chowkha and so on for all other states\"\"\"\n",
    "\n",
    "doc = nlp(text)"
   ]
  },
  {
   "cell_type": "code",
   "execution_count": 4,
   "id": "fba2851a",
   "metadata": {},
   "outputs": [],
   "source": [
    "graphical_cities = []"
   ]
  },
  {
   "cell_type": "code",
   "execution_count": 9,
   "id": "3de81ec4",
   "metadata": {},
   "outputs": [],
   "source": [
    "doc = nlp(text)"
   ]
  },
  {
   "cell_type": "code",
   "execution_count": 14,
   "id": "745b9cc4",
   "metadata": {},
   "outputs": [],
   "source": [
    "for ent in doc.ents:\n",
    "    if ent.label_ == 'GPE':\n",
    "        graphical_cities.append(ent.text)"
   ]
  },
  {
   "cell_type": "code",
   "execution_count": 15,
   "id": "4ecd1ab3",
   "metadata": {},
   "outputs": [
    {
     "data": {
      "text/plain": [
       "['India',\n",
       " 'Delhi',\n",
       " 'Gujarat',\n",
       " 'Tamilnadu',\n",
       " 'Pongal',\n",
       " 'Andhrapradesh',\n",
       " 'Assam',\n",
       " 'Bihar']"
      ]
     },
     "execution_count": 15,
     "metadata": {},
     "output_type": "execute_result"
    }
   ],
   "source": [
    "graphical_cities\n"
   ]
  },
  {
   "cell_type": "code",
   "execution_count": 17,
   "id": "b6145c5b",
   "metadata": {},
   "outputs": [
    {
     "name": "stdout",
     "output_type": "stream",
     "text": [
      "Graphical Ciies: ['India', 'Delhi', 'Gujarat', 'Tamilnadu', 'Pongal', 'Andhrapradesh', 'Assam', 'Bihar']\n"
     ]
    }
   ],
   "source": [
    "print('Graphical Ciies:',graphical_cities)"
   ]
  },
  {
   "cell_type": "code",
   "execution_count": 18,
   "id": "02041294",
   "metadata": {},
   "outputs": [
    {
     "name": "stdout",
     "output_type": "stream",
     "text": [
      "Count:  8\n"
     ]
    }
   ],
   "source": [
    "print('Count: ',len(graphical_cities))"
   ]
  },
  {
   "cell_type": "markdown",
   "id": "f5cb4319",
   "metadata": {},
   "source": [
    "### Excersie: 2\n",
    "#### Extract all the birth dates of cricketers in the given Text"
   ]
  },
  {
   "cell_type": "code",
   "execution_count": 19,
   "id": "c2dbebb1",
   "metadata": {},
   "outputs": [],
   "source": [
    "text = \"\"\"Sachin Tendulkar was born on 24 April 1973, Virat Kholi was born on 5 November 1988, Dhoni was born on 7 July 1981\n",
    "and finally Ricky ponting was born on 19 December 1974.\"\"\"\n",
    "\n",
    "doc = nlp(text)"
   ]
  },
  {
   "cell_type": "code",
   "execution_count": 20,
   "id": "964292cf",
   "metadata": {},
   "outputs": [],
   "source": [
    "birth_dates = []"
   ]
  },
  {
   "cell_type": "code",
   "execution_count": 21,
   "id": "54bcc415",
   "metadata": {},
   "outputs": [],
   "source": [
    "for ent in doc.ents:\n",
    "    if ent.label_ == 'DATE':\n",
    "        \n",
    "        birth_dates.append(ent)"
   ]
  },
  {
   "cell_type": "code",
   "execution_count": 22,
   "id": "fe07e11f",
   "metadata": {},
   "outputs": [
    {
     "name": "stdout",
     "output_type": "stream",
     "text": [
      "Birth Dates:  [24 April 1973, 5 November 1988, 7 July 1981, 19 December 1974]\n",
      "Count:  4\n"
     ]
    }
   ],
   "source": [
    "print('Birth Dates: ', birth_dates)\n",
    "print('Count: ', len(birth_dates))"
   ]
  },
  {
   "cell_type": "code",
   "execution_count": null,
   "id": "2414aa7e",
   "metadata": {},
   "outputs": [],
   "source": []
  }
 ],
 "metadata": {
  "kernelspec": {
   "display_name": "Python 3 (ipykernel)",
   "language": "python",
   "name": "python3"
  },
  "language_info": {
   "codemirror_mode": {
    "name": "ipython",
    "version": 3
   },
   "file_extension": ".py",
   "mimetype": "text/x-python",
   "name": "python",
   "nbconvert_exporter": "python",
   "pygments_lexer": "ipython3",
   "version": "3.11.5"
  }
 },
 "nbformat": 4,
 "nbformat_minor": 5
}
