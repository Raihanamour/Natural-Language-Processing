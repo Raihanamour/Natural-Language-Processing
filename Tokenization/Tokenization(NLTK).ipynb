{
 "cells": [
  {
   "cell_type": "code",
   "execution_count": 2,
   "id": "2b39457d",
   "metadata": {},
   "outputs": [
    {
     "name": "stdout",
     "output_type": "stream",
     "text": [
      "Requirement already satisfied: nltk in /Users/raihan/anaconda3/lib/python3.11/site-packages (3.8.1)\r\n",
      "Requirement already satisfied: click in /Users/raihan/anaconda3/lib/python3.11/site-packages (from nltk) (8.0.4)\r\n",
      "Requirement already satisfied: joblib in /Users/raihan/anaconda3/lib/python3.11/site-packages (from nltk) (1.2.0)\r\n",
      "Requirement already satisfied: regex>=2021.8.3 in /Users/raihan/anaconda3/lib/python3.11/site-packages (from nltk) (2022.7.9)\r\n",
      "Requirement already satisfied: tqdm in /Users/raihan/anaconda3/lib/python3.11/site-packages (from nltk) (4.65.0)\r\n"
     ]
    }
   ],
   "source": [
    "!pip install nltk"
   ]
  },
  {
   "cell_type": "code",
   "execution_count": 6,
   "id": "3a18e9d7",
   "metadata": {},
   "outputs": [
    {
     "name": "stderr",
     "output_type": "stream",
     "text": [
      "[nltk_data] Downloading package punkt to /Users/raihan/nltk_data...\n",
      "[nltk_data]   Unzipping tokenizers/punkt.zip.\n"
     ]
    },
    {
     "data": {
      "text/plain": [
       "True"
      ]
     },
     "execution_count": 6,
     "metadata": {},
     "output_type": "execute_result"
    }
   ],
   "source": [
    "import nltk\n",
    "nltk.download('punkt')"
   ]
  },
  {
   "cell_type": "markdown",
   "id": "71803717",
   "metadata": {},
   "source": [
    "## Tokenization"
   ]
  },
  {
   "cell_type": "code",
   "execution_count": 7,
   "id": "cda97fe5",
   "metadata": {},
   "outputs": [],
   "source": [
    "corpus = \"\"\"The evolution of Artificial Intelligence (AI) and Machine Learning (ML) has led the digital transformation in the last decade. AI and ML have achieved significant breakthroughs starting from supervised learning and rapidly advancing with the development of unsupervised, semi-supervised, reinforcement, and deep learning.\n",
    "\"\"\""
   ]
  },
  {
   "cell_type": "code",
   "execution_count": 8,
   "id": "d534d288",
   "metadata": {},
   "outputs": [],
   "source": [
    "# Paragraph ---> Sentence\n",
    "from nltk.tokenize import sent_tokenize"
   ]
  },
  {
   "cell_type": "code",
   "execution_count": 9,
   "id": "28bd3a32",
   "metadata": {},
   "outputs": [],
   "source": [
    "document = sent_tokenize(corpus)"
   ]
  },
  {
   "cell_type": "code",
   "execution_count": 10,
   "id": "015ccf57",
   "metadata": {
    "scrolled": true
   },
   "outputs": [
    {
     "name": "stdout",
     "output_type": "stream",
     "text": [
      "['The evolution of Artificial Intelligence (AI) and Machine Learning (ML) has led the digital transformation in the last decade.', 'AI and ML have achieved significant breakthroughs starting from supervised learning and rapidly advancing with the development of unsupervised, semi-supervised, reinforcement, and deep learning.']\n"
     ]
    }
   ],
   "source": [
    "print(document)"
   ]
  },
  {
   "cell_type": "code",
   "execution_count": 11,
   "id": "c3e331fa",
   "metadata": {},
   "outputs": [
    {
     "name": "stdout",
     "output_type": "stream",
     "text": [
      "The evolution of Artificial Intelligence (AI) and Machine Learning (ML) has led the digital transformation in the last decade.\n",
      "AI and ML have achieved significant breakthroughs starting from supervised learning and rapidly advancing with the development of unsupervised, semi-supervised, reinforcement, and deep learning.\n"
     ]
    }
   ],
   "source": [
    "for sentence in document:\n",
    "    print(sentence)\n",
    "    "
   ]
  },
  {
   "cell_type": "code",
   "execution_count": 12,
   "id": "310ed750",
   "metadata": {},
   "outputs": [],
   "source": [
    "# Paragraph ---> words\n",
    "# Sentence ---> words\n",
    "\n",
    "from nltk.tokenize import word_tokenize"
   ]
  },
  {
   "cell_type": "code",
   "execution_count": 14,
   "id": "26e97b5d",
   "metadata": {},
   "outputs": [],
   "source": [
    "words = word_tokenize(corpus)"
   ]
  },
  {
   "cell_type": "code",
   "execution_count": 15,
   "id": "981f986b",
   "metadata": {},
   "outputs": [
    {
     "data": {
      "text/plain": [
       "['The',\n",
       " 'evolution',\n",
       " 'of',\n",
       " 'Artificial',\n",
       " 'Intelligence',\n",
       " '(',\n",
       " 'AI',\n",
       " ')',\n",
       " 'and',\n",
       " 'Machine',\n",
       " 'Learning',\n",
       " '(',\n",
       " 'ML',\n",
       " ')',\n",
       " 'has',\n",
       " 'led',\n",
       " 'the',\n",
       " 'digital',\n",
       " 'transformation',\n",
       " 'in',\n",
       " 'the',\n",
       " 'last',\n",
       " 'decade',\n",
       " '.',\n",
       " 'AI',\n",
       " 'and',\n",
       " 'ML',\n",
       " 'have',\n",
       " 'achieved',\n",
       " 'significant',\n",
       " 'breakthroughs',\n",
       " 'starting',\n",
       " 'from',\n",
       " 'supervised',\n",
       " 'learning',\n",
       " 'and',\n",
       " 'rapidly',\n",
       " 'advancing',\n",
       " 'with',\n",
       " 'the',\n",
       " 'development',\n",
       " 'of',\n",
       " 'unsupervised',\n",
       " ',',\n",
       " 'semi-supervised',\n",
       " ',',\n",
       " 'reinforcement',\n",
       " ',',\n",
       " 'and',\n",
       " 'deep',\n",
       " 'learning',\n",
       " '.']"
      ]
     },
     "execution_count": 15,
     "metadata": {},
     "output_type": "execute_result"
    }
   ],
   "source": [
    "words"
   ]
  },
  {
   "cell_type": "code",
   "execution_count": 17,
   "id": "4ff329da",
   "metadata": {},
   "outputs": [
    {
     "name": "stdout",
     "output_type": "stream",
     "text": [
      "['The', 'evolution', 'of', 'Artificial', 'Intelligence', '(', 'AI', ')', 'and', 'Machine', 'Learning', '(', 'ML', ')', 'has', 'led', 'the', 'digital', 'transformation', 'in', 'the', 'last', 'decade', '.']\n",
      "['AI', 'and', 'ML', 'have', 'achieved', 'significant', 'breakthroughs', 'starting', 'from', 'supervised', 'learning', 'and', 'rapidly', 'advancing', 'with', 'the', 'development', 'of', 'unsupervised', ',', 'semi-supervised', ',', 'reinforcement', ',', 'and', 'deep', 'learning', '.']\n"
     ]
    }
   ],
   "source": [
    "for sentence in document:\n",
    "    print(word_tokenize(sentence))"
   ]
  },
  {
   "cell_type": "markdown",
   "id": "9058d647",
   "metadata": {},
   "source": [
    "#### There are other Libraries like wordpunct and TreebankwordTokenize"
   ]
  },
  {
   "cell_type": "code",
   "execution_count": 18,
   "id": "c77d5086",
   "metadata": {},
   "outputs": [],
   "source": [
    "from nltk.tokenize import wordpunct_tokenize"
   ]
  },
  {
   "cell_type": "code",
   "execution_count": 20,
   "id": "aa556842",
   "metadata": {},
   "outputs": [
    {
     "data": {
      "text/plain": [
       "['The',\n",
       " 'evolution',\n",
       " 'of',\n",
       " 'Artificial',\n",
       " 'Intelligence',\n",
       " '(',\n",
       " 'AI',\n",
       " ')',\n",
       " 'and',\n",
       " 'Machine',\n",
       " 'Learning',\n",
       " '(',\n",
       " 'ML',\n",
       " ')',\n",
       " 'has',\n",
       " 'led',\n",
       " 'the',\n",
       " 'digital',\n",
       " 'transformation',\n",
       " 'in',\n",
       " 'the',\n",
       " 'last',\n",
       " 'decade',\n",
       " '.',\n",
       " 'AI',\n",
       " 'and',\n",
       " 'ML',\n",
       " 'have',\n",
       " 'achieved',\n",
       " 'significant',\n",
       " 'breakthroughs',\n",
       " 'starting',\n",
       " 'from',\n",
       " 'supervised',\n",
       " 'learning',\n",
       " 'and',\n",
       " 'rapidly',\n",
       " 'advancing',\n",
       " 'with',\n",
       " 'the',\n",
       " 'development',\n",
       " 'of',\n",
       " 'unsupervised',\n",
       " ',',\n",
       " 'semi',\n",
       " '-',\n",
       " 'supervised',\n",
       " ',',\n",
       " 'reinforcement',\n",
       " ',',\n",
       " 'and',\n",
       " 'deep',\n",
       " 'learning',\n",
       " '.']"
      ]
     },
     "execution_count": 20,
     "metadata": {},
     "output_type": "execute_result"
    }
   ],
   "source": [
    "wordpunct_tokenize(corpus)"
   ]
  },
  {
   "cell_type": "code",
   "execution_count": 21,
   "id": "0dba5bc5",
   "metadata": {},
   "outputs": [],
   "source": [
    "from nltk.tokenize import TreebankWordTokenizer"
   ]
  },
  {
   "cell_type": "code",
   "execution_count": 22,
   "id": "6245da48",
   "metadata": {},
   "outputs": [],
   "source": [
    "tokenizer = TreebankWordTokenizer()"
   ]
  },
  {
   "cell_type": "code",
   "execution_count": 23,
   "id": "af787e3f",
   "metadata": {},
   "outputs": [
    {
     "data": {
      "text/plain": [
       "['The',\n",
       " 'evolution',\n",
       " 'of',\n",
       " 'Artificial',\n",
       " 'Intelligence',\n",
       " '(',\n",
       " 'AI',\n",
       " ')',\n",
       " 'and',\n",
       " 'Machine',\n",
       " 'Learning',\n",
       " '(',\n",
       " 'ML',\n",
       " ')',\n",
       " 'has',\n",
       " 'led',\n",
       " 'the',\n",
       " 'digital',\n",
       " 'transformation',\n",
       " 'in',\n",
       " 'the',\n",
       " 'last',\n",
       " 'decade.',\n",
       " 'AI',\n",
       " 'and',\n",
       " 'ML',\n",
       " 'have',\n",
       " 'achieved',\n",
       " 'significant',\n",
       " 'breakthroughs',\n",
       " 'starting',\n",
       " 'from',\n",
       " 'supervised',\n",
       " 'learning',\n",
       " 'and',\n",
       " 'rapidly',\n",
       " 'advancing',\n",
       " 'with',\n",
       " 'the',\n",
       " 'development',\n",
       " 'of',\n",
       " 'unsupervised',\n",
       " ',',\n",
       " 'semi-supervised',\n",
       " ',',\n",
       " 'reinforcement',\n",
       " ',',\n",
       " 'and',\n",
       " 'deep',\n",
       " 'learning',\n",
       " '.']"
      ]
     },
     "execution_count": 23,
     "metadata": {},
     "output_type": "execute_result"
    }
   ],
   "source": [
    "tokenizer.tokenize(corpus)"
   ]
  },
  {
   "cell_type": "code",
   "execution_count": null,
   "id": "39e9667f",
   "metadata": {},
   "outputs": [],
   "source": []
  }
 ],
 "metadata": {
  "kernelspec": {
   "display_name": "Python 3 (ipykernel)",
   "language": "python",
   "name": "python3"
  },
  "language_info": {
   "codemirror_mode": {
    "name": "ipython",
    "version": 3
   },
   "file_extension": ".py",
   "mimetype": "text/x-python",
   "name": "python",
   "nbconvert_exporter": "python",
   "pygments_lexer": "ipython3",
   "version": "3.11.5"
  }
 },
 "nbformat": 4,
 "nbformat_minor": 5
}
