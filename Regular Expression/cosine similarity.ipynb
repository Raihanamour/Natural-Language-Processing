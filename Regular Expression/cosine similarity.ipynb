{
 "cells": [
  {
   "cell_type": "code",
   "execution_count": 1,
   "id": "7c116306",
   "metadata": {},
   "outputs": [],
   "source": [
    "from sklearn.feature_extraction.text import CountVectorizer\n",
    "from sklearn.metrics.pairwise import cosine_similarity"
   ]
  },
  {
   "cell_type": "code",
   "execution_count": 2,
   "id": "218e70b1",
   "metadata": {},
   "outputs": [],
   "source": [
    "# Sample documents\n",
    "document1 = \"This is a sample sentence for cosine similarity.\"\n",
    "document2 = \"Cosine similarity is used in natural language processing.\""
   ]
  },
  {
   "cell_type": "code",
   "execution_count": 3,
   "id": "d715af34",
   "metadata": {},
   "outputs": [],
   "source": [
    "# Vectorize the documents\n",
    "vectorizer = CountVectorizer()\n",
    "vectorized_documents = vectorizer.fit_transform([document1, document2])"
   ]
  },
  {
   "cell_type": "code",
   "execution_count": 4,
   "id": "21cbe942",
   "metadata": {},
   "outputs": [],
   "source": [
    "# Compute cosine similarity\n",
    "cosine_sim = cosine_similarity(vectorized_documents)\n"
   ]
  },
  {
   "cell_type": "code",
   "execution_count": 5,
   "id": "9f0e01e9",
   "metadata": {},
   "outputs": [
    {
     "name": "stdout",
     "output_type": "stream",
     "text": [
      "Cosine Similarity:\n",
      "[[1.         0.40089186]\n",
      " [0.40089186 1.        ]]\n"
     ]
    }
   ],
   "source": [
    "print(\"Cosine Similarity:\")\n",
    "print(cosine_sim)"
   ]
  },
  {
   "cell_type": "code",
   "execution_count": null,
   "id": "703fb561",
   "metadata": {},
   "outputs": [],
   "source": []
  }
 ],
 "metadata": {
  "kernelspec": {
   "display_name": "Python 3 (ipykernel)",
   "language": "python",
   "name": "python3"
  },
  "language_info": {
   "codemirror_mode": {
    "name": "ipython",
    "version": 3
   },
   "file_extension": ".py",
   "mimetype": "text/x-python",
   "name": "python",
   "nbconvert_exporter": "python",
   "pygments_lexer": "ipython3",
   "version": "3.11.5"
  }
 },
 "nbformat": 4,
 "nbformat_minor": 5
}
