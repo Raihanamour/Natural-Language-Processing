{
 "cells": [
  {
   "cell_type": "code",
   "execution_count": 1,
   "id": "4cfcb2d4",
   "metadata": {},
   "outputs": [],
   "source": [
    "from sklearn.feature_extraction.text import CountVectorizer\n",
    "from sklearn.metrics.pairwise import cosine_similarity"
   ]
  },
  {
   "cell_type": "code",
   "execution_count": 2,
   "id": "70438ddc",
   "metadata": {},
   "outputs": [],
   "source": [
    "# Sample documents\n",
    "document1 = \"This is a sample sentence for cosine similarity.\"\n",
    "document2 = \"Cosine similarity is used in natural language processing.\""
   ]
  },
  {
   "cell_type": "code",
   "execution_count": 3,
   "id": "760244c8",
   "metadata": {},
   "outputs": [],
   "source": [
    "# Vectorize the documents\n",
    "vectorizer = CountVectorizer()\n",
    "vectorized_documents = vectorizer.fit_transform([document1, document2])"
   ]
  },
  {
   "cell_type": "code",
   "execution_count": 4,
   "id": "e1c819dc",
   "metadata": {},
   "outputs": [],
   "source": [
    "# Compute cosine similarity\n",
    "cosine_sim = cosine_similarity(vectorized_documents)\n"
   ]
  },
  {
   "cell_type": "code",
   "execution_count": 8,
   "id": "609d2ef8",
   "metadata": {},
   "outputs": [
    {
     "name": "stdout",
     "output_type": "stream",
     "text": [
      "Cosine Similarity: [[1.         0.40089186]\n",
      " [0.40089186 1.        ]]\n"
     ]
    }
   ],
   "source": [
    "print(\"Cosine Similarity:\",cosine_sim)\n"
   ]
  },
  {
   "cell_type": "code",
   "execution_count": 7,
   "id": "20e02200",
   "metadata": {},
   "outputs": [
    {
     "name": "stdout",
     "output_type": "stream",
     "text": [
      "[[1.         0.40089186]\n",
      " [0.40089186 1.        ]]\n"
     ]
    }
   ],
   "source": []
  },
  {
   "cell_type": "code",
   "execution_count": null,
   "id": "b7f909e8",
   "metadata": {},
   "outputs": [],
   "source": []
  }
 ],
 "metadata": {
  "kernelspec": {
   "display_name": "Python 3 (ipykernel)",
   "language": "python",
   "name": "python3"
  },
  "language_info": {
   "codemirror_mode": {
    "name": "ipython",
    "version": 3
   },
   "file_extension": ".py",
   "mimetype": "text/x-python",
   "name": "python",
   "nbconvert_exporter": "python",
   "pygments_lexer": "ipython3",
   "version": "3.11.5"
  }
 },
 "nbformat": 4,
 "nbformat_minor": 5
}
