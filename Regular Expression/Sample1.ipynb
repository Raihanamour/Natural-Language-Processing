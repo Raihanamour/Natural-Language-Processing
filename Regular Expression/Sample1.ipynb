{
 "cells": [
  {
   "cell_type": "markdown",
   "id": "1ec6076d",
   "metadata": {},
   "source": [
    "### Question1: Write a regular expression to match email addresses."
   ]
  },
  {
   "cell_type": "code",
   "execution_count": 1,
   "id": "4dea3c9a",
   "metadata": {},
   "outputs": [],
   "source": [
    "import re"
   ]
  },
  {
   "cell_type": "code",
   "execution_count": 2,
   "id": "1bef694a",
   "metadata": {},
   "outputs": [
    {
     "name": "stdout",
     "output_type": "stream",
     "text": [
      "['user1@example.com', 'user2@gmail.com']\n"
     ]
    }
   ],
   "source": [
    "corpus = \"Sample text with email addresses user1@example.com and user2@gmail.com.\"\n",
    "\n",
    "email_pattern = r'\\b[A-Za-z0-9._%+-]+@[A-Za-z0-9.-]+\\.[A-Z|a-z]{2,}\\b'\n",
    "emails = re.findall(email_pattern, corpus)\n",
    "\n",
    "print(emails)"
   ]
  },
  {
   "cell_type": "markdown",
   "id": "8e9b614b",
   "metadata": {},
   "source": [
    "### Question2: Extracting Dates"
   ]
  },
  {
   "cell_type": "code",
   "execution_count": 3,
   "id": "7e150bef",
   "metadata": {},
   "outputs": [
    {
     "name": "stdout",
     "output_type": "stream",
     "text": [
      "[('05', '20'), ('12', '31')]\n"
     ]
    }
   ],
   "source": [
    "corpus = \"The meeting is scheduled for 05/20/2023 and the deadline is 12/31/2023.\"\n",
    "\n",
    "date_pattern = r'\\b(0[1-9]|1[0-2])/(0[1-9]|[12][0-9]|3[01])/\\d{4}\\b'\n",
    "dates = re.findall(date_pattern, corpus)\n",
    "\n",
    "print(dates)"
   ]
  },
  {
   "cell_type": "markdown",
   "id": "b41df555",
   "metadata": {},
   "source": [
    "### Question3: Extracting Hashtag"
   ]
  },
  {
   "cell_type": "code",
   "execution_count": 5,
   "id": "5c9c9d00",
   "metadata": {},
   "outputs": [
    {
     "name": "stdout",
     "output_type": "stream",
     "text": [
      "['#sample', '#hashtags', '#DataScience', '#RegexExample']\n"
     ]
    }
   ],
   "source": [
    "\n",
    "corpus = \"This is a #sample text with #hashtags. #DataScience #RegexExample\"\n",
    "\n",
    "hashtag_pattern = r'#\\w+'\n",
    "hashtags = re.findall(hashtag_pattern, corpus)\n",
    "\n",
    "print(hashtags)"
   ]
  },
  {
   "cell_type": "markdown",
   "id": "eda37fad",
   "metadata": {},
   "source": [
    "### Question4: Extracting URLs"
   ]
  },
  {
   "cell_type": "code",
   "execution_count": 7,
   "id": "68d96234",
   "metadata": {},
   "outputs": [
    {
     "name": "stdout",
     "output_type": "stream",
     "text": [
      "['https://www.example.com']\n"
     ]
    }
   ],
   "source": [
    "corpus = \"Visit our website at https://www.example.com for more information.\"\n",
    "\n",
    "url_pattern = r'https?://[^\\s/$.?#].[^\\s]*'\n",
    "urls = re.findall(url_pattern, corpus)\n",
    "\n",
    "print(urls)"
   ]
  },
  {
   "cell_type": "markdown",
   "id": "99acc9e9",
   "metadata": {},
   "source": [
    "### Question5: Extracting Numbers"
   ]
  },
  {
   "cell_type": "code",
   "execution_count": 8,
   "id": "f749040a",
   "metadata": {},
   "outputs": [
    {
     "name": "stdout",
     "output_type": "stream",
     "text": [
      "['42', '123']\n"
     ]
    }
   ],
   "source": [
    "corpus = \"There are 42 apples and 123 oranges in the basket.\"\n",
    "\n",
    "number_pattern = r'\\b\\d+\\b'\n",
    "numbers = re.findall(number_pattern, corpus)\n",
    "\n",
    "print(numbers)"
   ]
  },
  {
   "cell_type": "markdown",
   "id": "1ec94010",
   "metadata": {},
   "source": [
    "### Question6: Extracting SSN"
   ]
  },
  {
   "cell_type": "code",
   "execution_count": 13,
   "id": "af2aa706",
   "metadata": {},
   "outputs": [
    {
     "name": "stdout",
     "output_type": "stream",
     "text": [
      "['123-45-6789']\n"
     ]
    }
   ],
   "source": [
    "corpus = \"The employee's SSN is 123-45-6789.\"\n",
    "\n",
    "ssn_pattern = r'\\b\\d{3}-\\d{2}-\\d{4}\\b'\n",
    "ssns = re.findall(ssn_pattern, corpus)\n",
    "\n",
    "print(ssns)"
   ]
  },
  {
   "cell_type": "markdown",
   "id": "5844a4b6",
   "metadata": {},
   "source": [
    "### Question7: Extracting Dollar Amounts"
   ]
  },
  {
   "cell_type": "code",
   "execution_count": 14,
   "id": "d5185ecc",
   "metadata": {},
   "outputs": [
    {
     "name": "stdout",
     "output_type": "stream",
     "text": [
      "['$99.99', '$10.00']\n"
     ]
    }
   ],
   "source": [
    "corpus = \"The total cost is $99.99 and the discount is $10.00.\"\n",
    "\n",
    "dollar_pattern = r'\\$\\d+\\.\\d{2}'\n",
    "dollars = re.findall(dollar_pattern, corpus)\n",
    "\n",
    "print(dollars)"
   ]
  },
  {
   "cell_type": "markdown",
   "id": "106df3f0",
   "metadata": {},
   "source": [
    "### Question8: Extracting Mentioned persons"
   ]
  },
  {
   "cell_type": "code",
   "execution_count": 16,
   "id": "8f357739",
   "metadata": {},
   "outputs": [
    {
     "name": "stdout",
     "output_type": "stream",
     "text": [
      "['John Doe', 'Jane Smith']\n"
     ]
    }
   ],
   "source": [
    "\n",
    "corpus = \"The speakers are John Doe and Jane Smith.\"\n",
    "\n",
    "person_pattern = r'\\b[A-Z][a-z]+ [A-Z][a-z]+\\b'\n",
    "persons = re.findall(person_pattern, corpus)\n",
    "\n",
    "print(persons)"
   ]
  },
  {
   "cell_type": "markdown",
   "id": "5b5b2021",
   "metadata": {},
   "source": [
    "### Question9: Extracting Phone number"
   ]
  },
  {
   "cell_type": "code",
   "execution_count": 17,
   "id": "f610ec3a",
   "metadata": {},
   "outputs": [
    {
     "name": "stdout",
     "output_type": "stream",
     "text": [
      "['(555) 123-4567', '(123) 456-7890']\n"
     ]
    }
   ],
   "source": [
    "\n",
    "corpus = \"Contact us at (555) 123-4567 or (123) 456-7890.\"\n",
    "\n",
    "phone_pattern = r'\\(\\d{3}\\) \\d{3}-\\d{4}'\n",
    "phones = re.findall(phone_pattern, corpus)\n",
    "\n",
    "print(phones)"
   ]
  },
  {
   "cell_type": "code",
   "execution_count": null,
   "id": "a81444fb",
   "metadata": {},
   "outputs": [],
   "source": [
    "### Question5: Extracting Numbers"
   ]
  }
 ],
 "metadata": {
  "kernelspec": {
   "display_name": "Python 3 (ipykernel)",
   "language": "python",
   "name": "python3"
  },
  "language_info": {
   "codemirror_mode": {
    "name": "ipython",
    "version": 3
   },
   "file_extension": ".py",
   "mimetype": "text/x-python",
   "name": "python",
   "nbconvert_exporter": "python",
   "pygments_lexer": "ipython3",
   "version": "3.11.5"
  }
 },
 "nbformat": 4,
 "nbformat_minor": 5
}
