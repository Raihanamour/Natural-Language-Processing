{
 "cells": [
  {
   "cell_type": "markdown",
   "id": "5cea5ead",
   "metadata": {},
   "source": [
    "## 1. Regex in Customer Support"
   ]
  },
  {
   "cell_type": "markdown",
   "id": "60e7769e",
   "metadata": {},
   "source": [
    "\n",
    "### a. Retrieve Order Number"
   ]
  },
  {
   "cell_type": "code",
   "execution_count": 19,
   "id": "c13f6d4c",
   "metadata": {},
   "outputs": [],
   "source": [
    "import re\n",
    "\n",
    "chat1='ABC : Hello, I am having an issue with my order # 412889912'\n",
    "\n",
    "pattern = 'order[^\\d]*(\\d*)'"
   ]
  },
  {
   "cell_type": "code",
   "execution_count": 22,
   "id": "dbc64201",
   "metadata": {},
   "outputs": [],
   "source": [
    "matches = re.findall(pattern, chat1)"
   ]
  },
  {
   "cell_type": "code",
   "execution_count": 23,
   "id": "af224521",
   "metadata": {},
   "outputs": [
    {
     "data": {
      "text/plain": [
       "['412889912']"
      ]
     },
     "execution_count": 23,
     "metadata": {},
     "output_type": "execute_result"
    }
   ],
   "source": [
    "matches"
   ]
  },
  {
   "cell_type": "code",
   "execution_count": 24,
   "id": "8a059fcf",
   "metadata": {},
   "outputs": [],
   "source": [
    "chat2='ABC: I have a problem with my order number 412889912'\n",
    "pattern = 'order[^\\d]*(\\d*)'\n",
    "matches = re.findall(pattern, chat2)"
   ]
  },
  {
   "cell_type": "code",
   "execution_count": 25,
   "id": "9814417e",
   "metadata": {},
   "outputs": [
    {
     "data": {
      "text/plain": [
       "['412889912']"
      ]
     },
     "execution_count": 25,
     "metadata": {},
     "output_type": "execute_result"
    }
   ],
   "source": [
    "matches"
   ]
  },
  {
   "cell_type": "code",
   "execution_count": 26,
   "id": "8d7de703",
   "metadata": {},
   "outputs": [],
   "source": [
    "chat3='ABC: My order 412889912 is having an issue, I was charged 480$ when online it says 380$'\n",
    "pattern = 'order[^\\d]*(\\d*)'\n",
    "matches = re.findall(pattern,chat3)\n",
    "\n"
   ]
  },
  {
   "cell_type": "code",
   "execution_count": 27,
   "id": "4fe885ae",
   "metadata": {},
   "outputs": [
    {
     "data": {
      "text/plain": [
       "['412889912']"
      ]
     },
     "execution_count": 27,
     "metadata": {},
     "output_type": "execute_result"
    }
   ],
   "source": [
    "matches"
   ]
  },
  {
   "cell_type": "code",
   "execution_count": 28,
   "id": "4460dfee",
   "metadata": {},
   "outputs": [],
   "source": [
    "# Using single function\n",
    "\n",
    "def get_pattern(pattern,text):\n",
    "    matches = re.findall(pattern,text)\n",
    "    if matches:\n",
    "        return matches[0]\n",
    "    "
   ]
  },
  {
   "cell_type": "code",
   "execution_count": 31,
   "id": "eb3d8cdf",
   "metadata": {},
   "outputs": [
    {
     "data": {
      "text/plain": [
       "'412889912'"
      ]
     },
     "execution_count": 31,
     "metadata": {},
     "output_type": "execute_result"
    }
   ],
   "source": [
    "get_pattern('order[^\\d]*(\\d*)',chat1)"
   ]
  },
  {
   "cell_type": "markdown",
   "id": "c5ce0356",
   "metadata": {},
   "source": [
    "### b. Retrieve email "
   ]
  },
  {
   "cell_type": "code",
   "execution_count": 32,
   "id": "f3e0c886",
   "metadata": {},
   "outputs": [],
   "source": [
    "chat1 = 'ABC: you ask lot of questions 😠  1235678912, abc@xyz.com'\n",
    "chat2 = 'ABC: here it is: (123)-567-8912, abc@xyz.com'\n",
    "chat3 = 'ABC: yes, phone: 1235678912 email: abc@xyz.com'"
   ]
  },
  {
   "cell_type": "code",
   "execution_count": 36,
   "id": "44e79cc3",
   "metadata": {},
   "outputs": [
    {
     "data": {
      "text/plain": [
       "'abc@xyz.com'"
      ]
     },
     "execution_count": 36,
     "metadata": {},
     "output_type": "execute_result"
    }
   ],
   "source": [
    "\n",
    "get_pattern('[a-zA-Z0-9_]*@[a-z]*\\.[a-zA-Z0-9]*', chat1)"
   ]
  },
  {
   "cell_type": "code",
   "execution_count": 37,
   "id": "3d6fcead",
   "metadata": {},
   "outputs": [
    {
     "data": {
      "text/plain": [
       "'abc@xyz.com'"
      ]
     },
     "execution_count": 37,
     "metadata": {},
     "output_type": "execute_result"
    }
   ],
   "source": [
    "get_pattern('[a-zA-Z0-9_]*@[a-z]*\\.[a-zA-Z0-9]*', chat2)"
   ]
  },
  {
   "cell_type": "code",
   "execution_count": 38,
   "id": "e60c2a1f",
   "metadata": {},
   "outputs": [
    {
     "data": {
      "text/plain": [
       "'abc@xyz.com'"
      ]
     },
     "execution_count": 38,
     "metadata": {},
     "output_type": "execute_result"
    }
   ],
   "source": [
    "get_pattern('[a-zA-Z0-9_]*@[a-z]*\\.[a-zA-Z0-9]*', chat3)"
   ]
  },
  {
   "cell_type": "markdown",
   "id": "2645591b",
   "metadata": {},
   "source": [
    "### c. Retrieve phone"
   ]
  },
  {
   "cell_type": "code",
   "execution_count": 48,
   "id": "b6cb9046",
   "metadata": {
    "scrolled": true
   },
   "outputs": [
    {
     "data": {
      "text/plain": [
       "('1235678912', '')"
      ]
     },
     "execution_count": 48,
     "metadata": {},
     "output_type": "execute_result"
    }
   ],
   "source": [
    "get_pattern('(\\d{10})|(\\(\\d{3}\\)-\\d{3}-\\d{4})',chat1)\n",
    "# patt[0]"
   ]
  },
  {
   "cell_type": "code",
   "execution_count": 43,
   "id": "f7872bda",
   "metadata": {},
   "outputs": [
    {
     "data": {
      "text/plain": [
       "('', '(123)-567-8912')"
      ]
     },
     "execution_count": 43,
     "metadata": {},
     "output_type": "execute_result"
    }
   ],
   "source": [
    "get_pattern('(\\d{10})|(\\(\\d{3}\\)-\\d{3}-\\d{4})',chat2)"
   ]
  },
  {
   "cell_type": "code",
   "execution_count": 45,
   "id": "e2e1c3a0",
   "metadata": {},
   "outputs": [
    {
     "data": {
      "text/plain": [
       "('1235678912', '')"
      ]
     },
     "execution_count": 45,
     "metadata": {},
     "output_type": "execute_result"
    }
   ],
   "source": [
    "get_pattern('(\\d{10})|(\\(\\d{3}\\)-\\d{3}-\\d{4})',chat3)"
   ]
  },
  {
   "cell_type": "markdown",
   "id": "7d2ffdcc",
   "metadata": {},
   "source": [
    "## 2. Regex for Information Support"
   ]
  },
  {
   "cell_type": "code",
   "execution_count": 49,
   "id": "70065a2b",
   "metadata": {},
   "outputs": [],
   "source": [
    "text='''\n",
    "Born\tElon Reeve Musk\n",
    "June 28, 1971 (age 50)\n",
    "Pretoria, Transvaal, South Africa\n",
    "Citizenship\t\n",
    "South Africa (1971–present)\n",
    "Canada (1971–present)\n",
    "United States (2002–present)\n",
    "Education\tUniversity of Pennsylvania (BS, BA)\n",
    "Title\t\n",
    "Founder, CEO and Chief Engineer of SpaceX\n",
    "CEO and product architect of Tesla, Inc.\n",
    "Founder of The Boring Company and X.com (now part of PayPal)\n",
    "Co-founder of Neuralink, OpenAI, and Zip2\n",
    "Spouse(s)\t\n",
    "Justine Wilson\n",
    "​\n",
    "​(m. 2000; div. 2008)​\n",
    "Talulah Riley\n",
    "​\n",
    "​(m. 2010; div. 2012)​\n",
    "​\n",
    "​(m. 2013; div. 2016)\n",
    "'''"
   ]
  },
  {
   "cell_type": "code",
   "execution_count": 50,
   "id": "66c2ddfb",
   "metadata": {},
   "outputs": [
    {
     "data": {
      "text/plain": [
       "'Elon Reeve Musk'"
      ]
     },
     "execution_count": 50,
     "metadata": {},
     "output_type": "execute_result"
    }
   ],
   "source": [
    "get_pattern(r'Born(.*)\\n',text).strip()"
   ]
  },
  {
   "cell_type": "code",
   "execution_count": 56,
   "id": "46b07412",
   "metadata": {},
   "outputs": [
    {
     "data": {
      "text/plain": [
       "'50'"
      ]
     },
     "execution_count": 56,
     "metadata": {},
     "output_type": "execute_result"
    }
   ],
   "source": [
    "get_pattern(r'age (\\d+)',text)"
   ]
  },
  {
   "cell_type": "code",
   "execution_count": 59,
   "id": "9c6f1486",
   "metadata": {},
   "outputs": [
    {
     "data": {
      "text/plain": [
       "'June 28, 1971'"
      ]
     },
     "execution_count": 59,
     "metadata": {},
     "output_type": "execute_result"
    }
   ],
   "source": [
    "get_pattern(r'Born.*\\n(.*)\\(age',text).strip()"
   ]
  },
  {
   "cell_type": "code",
   "execution_count": 60,
   "id": "9e1fd70e",
   "metadata": {},
   "outputs": [
    {
     "data": {
      "text/plain": [
       "'Pretoria, Transvaal, South Africa'"
      ]
     },
     "execution_count": 60,
     "metadata": {},
     "output_type": "execute_result"
    }
   ],
   "source": [
    "get_pattern(r'\\(age.*\\n(.*)',text)"
   ]
  },
  {
   "cell_type": "code",
   "execution_count": 63,
   "id": "a52f3b8f",
   "metadata": {},
   "outputs": [],
   "source": [
    "def extract_info(text):\n",
    "    name = get_pattern(r'Born(.*)\\n',text)\n",
    "    age = get_pattern(r'age (\\d+)',text)\n",
    "    dob= get_pattern(r'Born.*\\n(.*)\\(age',text)\n",
    "    birth_place = get_pattern(r'\\(age.*\\n(.*)',text)\n",
    "    return{\n",
    "        'Name':name.strip(),\n",
    "        'Age':int(age),\n",
    "        'DOB':dob.strip(),\n",
    "        'Birth Place': birth_place.strip()\n",
    "        \n",
    "    }"
   ]
  },
  {
   "cell_type": "code",
   "execution_count": 64,
   "id": "fafe4224",
   "metadata": {},
   "outputs": [
    {
     "data": {
      "text/plain": [
       "{'Name': 'Elon Reeve Musk',\n",
       " 'Age': 50,\n",
       " 'DOB': 'June 28, 1971',\n",
       " 'Birth Place': 'Pretoria, Transvaal, South Africa'}"
      ]
     },
     "execution_count": 64,
     "metadata": {},
     "output_type": "execute_result"
    }
   ],
   "source": [
    "extract_info(text)"
   ]
  },
  {
   "cell_type": "code",
   "execution_count": 67,
   "id": "45f0ce3d",
   "metadata": {},
   "outputs": [],
   "source": [
    "text2 = '''\n",
    "Born\tMukesh Dhirubhai Ambani\n",
    "19 April 1957 (age 64)\n",
    "Aden, Colony of Aden\n",
    "(present-day Yemen)[1][2]\n",
    "Nationality\tIndian\n",
    "Alma mater\t\n",
    "St. Xavier's College, Mumbai\n",
    "Institute of Chemical Technology (B.E.)\n",
    "Stanford University (drop-out)\n",
    "Occupation\tChairman and MD, Reliance Industries\n",
    "Spouse(s)\tNita Ambani ​(m. 1985)​[3]\n",
    "Children\t3\n",
    "Parent(s)\t\n",
    "Dhirubhai Ambani (father)\n",
    "Kokilaben Ambani (mother)\n",
    "Relatives\tAnil Ambani (brother)\n",
    "Tina Ambani (sister-in-law)\n",
    "'''"
   ]
  },
  {
   "cell_type": "code",
   "execution_count": 68,
   "id": "bf56ea67",
   "metadata": {},
   "outputs": [
    {
     "data": {
      "text/plain": [
       "{'Name': 'Mukesh Dhirubhai Ambani',\n",
       " 'Age': 64,\n",
       " 'DOB': '19 April 1957',\n",
       " 'Birth Place': 'Aden, Colony of Aden'}"
      ]
     },
     "execution_count": 68,
     "metadata": {},
     "output_type": "execute_result"
    }
   ],
   "source": [
    "extract_info(text2)"
   ]
  },
  {
   "cell_type": "code",
   "execution_count": null,
   "id": "79567f31",
   "metadata": {},
   "outputs": [],
   "source": []
  }
 ],
 "metadata": {
  "kernelspec": {
   "display_name": "Python 3 (ipykernel)",
   "language": "python",
   "name": "python3"
  },
  "language_info": {
   "codemirror_mode": {
    "name": "ipython",
    "version": 3
   },
   "file_extension": ".py",
   "mimetype": "text/x-python",
   "name": "python",
   "nbconvert_exporter": "python",
   "pygments_lexer": "ipython3",
   "version": "3.11.5"
  }
 },
 "nbformat": 4,
 "nbformat_minor": 5
}
