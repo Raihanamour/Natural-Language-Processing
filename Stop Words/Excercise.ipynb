{
 "cells": [
  {
   "cell_type": "markdown",
   "id": "48f149d0",
   "metadata": {},
   "source": [
    "### Exercise 1: \n",
    "- From a Given Text, Count the number of stop words in it.\n",
    "- Print the percentage of stop word tokens compared to all tokens in a given text."
   ]
  },
  {
   "cell_type": "code",
   "execution_count": 1,
   "id": "b28aae4b",
   "metadata": {},
   "outputs": [],
   "source": [
    "import spacy"
   ]
  },
  {
   "cell_type": "code",
   "execution_count": 2,
   "id": "c3608c13",
   "metadata": {},
   "outputs": [],
   "source": [
    "nlp = spacy.load('en_core_web_sm')"
   ]
  },
  {
   "cell_type": "code",
   "execution_count": 3,
   "id": "f2a931e8",
   "metadata": {},
   "outputs": [],
   "source": [
    "text = '''\n",
    "Thor: Love and Thunder is a 2022 American superhero film based on Marvel Comics featuring the character Thor, produced by Marvel Studios and \n",
    "distributed by Walt Disney Studios Motion Pictures. It is the sequel to Thor: Ragnarok (2017) and the 29th film in the Marvel Cinematic Universe (MCU).\n",
    "The film is directed by Taika Waititi, who co-wrote the script with Jennifer Kaytin Robinson, and stars Chris Hemsworth as Thor alongside Christian Bale, Tessa Thompson,\n",
    "Jaimie Alexander, Waititi, Russell Crowe, and Natalie Portman. In the film, Thor attempts to find inner peace, but must return to action and recruit Valkyrie (Thompson),\n",
    "Korg (Waititi), and Jane Foster (Portman)—who is now the Mighty Thor—to stop Gorr the God Butcher (Bale) from eliminating all gods.\n",
    "'''\n",
    "\n",
    "#step1: Create the object 'doc' for the given text using nlp()\n",
    "\n",
    "\n",
    "\n",
    "#step2: define the variables to keep track of stopwords count and total words count\n",
    "\n",
    "\n",
    "\n",
    "#step3: iterate through all the words in the document\n",
    "\n",
    "\n",
    "\n",
    "#step4: print the count of stop words\n",
    "\n",
    "    \n",
    "\n",
    "#step5: print the percentage of stop words compared to total words in the text"
   ]
  },
  {
   "cell_type": "code",
   "execution_count": 4,
   "id": "5826f497",
   "metadata": {},
   "outputs": [],
   "source": [
    "doc = nlp(text)"
   ]
  },
  {
   "cell_type": "code",
   "execution_count": 5,
   "id": "aac5cde4",
   "metadata": {},
   "outputs": [],
   "source": [
    "from spacy.lang.en.stop_words import STOP_WORDS"
   ]
  },
  {
   "cell_type": "code",
   "execution_count": 14,
   "id": "57638c61",
   "metadata": {},
   "outputs": [],
   "source": [
    "stop_words_count = 0\n",
    "total_words_count = 0"
   ]
  },
  {
   "cell_type": "code",
   "execution_count": 15,
   "id": "eff2030b",
   "metadata": {},
   "outputs": [],
   "source": [
    "for token in doc:\n",
    "    if token.is_stop:\n",
    "        stop_words_count += 1\n",
    "    total_words_count += 1\n",
    "    "
   ]
  },
  {
   "cell_type": "code",
   "execution_count": 24,
   "id": "435379d9",
   "metadata": {},
   "outputs": [
    {
     "name": "stdout",
     "output_type": "stream",
     "text": [
      "total Stop words in the doc : 40\n"
     ]
    }
   ],
   "source": [
    "print(f'total Stop words in the doc : {stop_words_count}')"
   ]
  },
  {
   "cell_type": "code",
   "execution_count": 25,
   "id": "2ca078b3",
   "metadata": {},
   "outputs": [
    {
     "name": "stdout",
     "output_type": "stream",
     "text": [
      "total words in the doc: 160\n"
     ]
    }
   ],
   "source": [
    "print(f'total words in the doc: {total_words_count}')"
   ]
  },
  {
   "cell_type": "code",
   "execution_count": 22,
   "id": "6a100f91",
   "metadata": {},
   "outputs": [],
   "source": [
    "percentage = (stop_words_count/total_words_count) * 100"
   ]
  },
  {
   "cell_type": "code",
   "execution_count": 26,
   "id": "2c7218df",
   "metadata": {},
   "outputs": [
    {
     "name": "stdout",
     "output_type": "stream",
     "text": [
      "peercentage of  stop words:25.0%\n"
     ]
    }
   ],
   "source": [
    "print(f'peercentage of  stop words:{percentage}%')"
   ]
  },
  {
   "cell_type": "markdown",
   "id": "af87a3d3",
   "metadata": {},
   "source": [
    "### Exercise 2:\n",
    "\n"
   ]
  },
  {
   "cell_type": "markdown",
   "id": "4c9099a2",
   "metadata": {},
   "source": [
    "- Spacy default implementation considers \"not\" as a stop word. But in some scenarios removing 'not' will completely change the meaning of the statement/text. For Example, consider these two statements:\n",
    "\n",
    "\n",
    "    - this is a good movie       ----> Positive Statement\n",
    "    - this is not a good movie   ----> Negative Statement\n",
    "    \n",
    "\n",
    "- So, after applying stopwords to those 2 texts, both will return \"good movie\" and does not respect the polarity/sentiments of text.\n",
    "\n",
    "- Now, your task is to remove this stop word \"not\" in spaCy and help in distinguishing the texts.\n",
    "\n"
   ]
  },
  {
   "cell_type": "code",
   "execution_count": 27,
   "id": "b9d13465",
   "metadata": {},
   "outputs": [],
   "source": [
    "#use this pre-processing function to pass the text and to remove all the stop words and finally get the cleaned form\n",
    "def preprocess(text):\n",
    "    doc = nlp(text)\n",
    "    no_stop_words = [token.text for token in doc if not token.is_stop]\n",
    "    return \" \".join(no_stop_words)       \n",
    "\n",
    "\n",
    "#Step1: remove the stopword 'not' in spacy\n",
    "\n",
    "\n",
    "\n",
    "#step2: send the two texts given above into the pre-process function and store the transformed texts\n",
    "\n",
    "\n",
    "\n",
    "#step3: finally print those 2 transformed texts"
   ]
  },
  {
   "cell_type": "code",
   "execution_count": 30,
   "id": "a0ad0776",
   "metadata": {},
   "outputs": [],
   "source": [
    "nlp.vocab['not'].is_stop = False"
   ]
  },
  {
   "cell_type": "code",
   "execution_count": 32,
   "id": "a2cc8c57",
   "metadata": {},
   "outputs": [],
   "source": [
    "Positive_text = preprocess('this is a good movie ')\n",
    "Negative_text = preprocess('this is not a good movie') "
   ]
  },
  {
   "cell_type": "code",
   "execution_count": 34,
   "id": "f9cda077",
   "metadata": {},
   "outputs": [
    {
     "name": "stdout",
     "output_type": "stream",
     "text": [
      "good movie -------> Positive Statement\n",
      "not good movie -------> Negative Statement\n"
     ]
    }
   ],
   "source": [
    "print(f'{Positive_text} -------> Positive Statement')\n",
    "print(f'{Negative_text} -------> Negative Statement')"
   ]
  },
  {
   "cell_type": "markdown",
   "id": "015817da",
   "metadata": {},
   "source": [
    "### Exercise3:\n",
    "\n",
    "- From a given text, output the most frequently used token after removing all the stop word tokens and punctuations in it.\n",
    "\n",
    "\n",
    "\n"
   ]
  },
  {
   "cell_type": "code",
   "execution_count": 35,
   "id": "0880ea74",
   "metadata": {},
   "outputs": [],
   "source": [
    "text = ''' The India men's national cricket team, also known as Team India or the Men in Blue, represents India in men's international cricket.\n",
    "It is governed by the Board of Control for Cricket in India (BCCI), and is a Full Member of the International Cricket Council (ICC) with Test,\n",
    "One Day International (ODI) and Twenty20 International (T20I) status. Cricket was introduced to India by British sailors in the 18th century, and the \n",
    "first cricket club was established in 1792. India's national cricket team played its first Test match on 25 June 1932 at Lord's, becoming the sixth team to be\n",
    "granted test cricket status.\n",
    "'''\n",
    "\n",
    "\n",
    "#step1: Create the object 'doc' for the given text using nlp()\n",
    "\n",
    "\n",
    "\n",
    "#step2: remove all the stop words and punctuations and store all the remaining tokens in a new list\n",
    "\n",
    "\n",
    "\n",
    "#step3: create a new dictionary and get the frequency of words by iterating through the list which contains stored tokens  \n",
    "\n",
    "\n",
    "\n",
    "#step4: get the maximum frequency word\n",
    "\n",
    "\n",
    "\n",
    "#step5: finally print the result"
   ]
  },
  {
   "cell_type": "code",
   "execution_count": 36,
   "id": "99a82e9f",
   "metadata": {},
   "outputs": [],
   "source": [
    "doc = nlp(text)"
   ]
  },
  {
   "cell_type": "code",
   "execution_count": 38,
   "id": "6872ab33",
   "metadata": {},
   "outputs": [],
   "source": [
    "remaining_tokens = []\n",
    "for token in doc:\n",
    "  if token.is_stop or token.is_punct:    #check whether a given token is stop word or punctuations\n",
    "    continue\n",
    "  remaining_tokens.append(token.text)"
   ]
  },
  {
   "cell_type": "code",
   "execution_count": 39,
   "id": "661117fb",
   "metadata": {},
   "outputs": [],
   "source": [
    "frequency_tokens = {}\n",
    "for token in remaining_tokens:\n",
    "  if token != '\\n' and token != ' ':      #As spacy considers new line and empty spaces as seperate token, it's better to ignore them\n",
    "    if token not in frequency_tokens:     #if a particular token occurs for the first time, we initialise it to 1\n",
    "      frequency_tokens[token] = 1\n",
    "    else:\n",
    "      frequency_tokens[token] += 1        #if a partcular token is already present, then increment by 1 based on value already presented\n"
   ]
  },
  {
   "cell_type": "code",
   "execution_count": 40,
   "id": "4c746258",
   "metadata": {},
   "outputs": [],
   "source": [
    "max_freq_word = max(frequency_tokens.keys(), key=(lambda key: frequency_tokens[key]))\n"
   ]
  },
  {
   "cell_type": "code",
   "execution_count": 41,
   "id": "9bc50fbb",
   "metadata": {},
   "outputs": [
    {
     "name": "stdout",
     "output_type": "stream",
     "text": [
      "Maximum frequency word: India\n"
     ]
    }
   ],
   "source": [
    "print(f\"Maximum frequency word: {max_freq_word}\") "
   ]
  },
  {
   "cell_type": "code",
   "execution_count": null,
   "id": "026468d8",
   "metadata": {},
   "outputs": [],
   "source": []
  }
 ],
 "metadata": {
  "kernelspec": {
   "display_name": "Python 3 (ipykernel)",
   "language": "python",
   "name": "python3"
  },
  "language_info": {
   "codemirror_mode": {
    "name": "ipython",
    "version": 3
   },
   "file_extension": ".py",
   "mimetype": "text/x-python",
   "name": "python",
   "nbconvert_exporter": "python",
   "pygments_lexer": "ipython3",
   "version": "3.11.5"
  }
 },
 "nbformat": 4,
 "nbformat_minor": 5
}
